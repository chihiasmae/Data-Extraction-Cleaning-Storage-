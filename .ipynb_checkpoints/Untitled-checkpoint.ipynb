{
 "cells": [
  {
   "cell_type": "code",
   "execution_count": 2,
   "metadata": {},
   "outputs": [],
   "source": [
    "import os\n",
    "import tweepy as tw\n",
    "import pandas as pd\n",
    "import numpy as np"
   ]
  },
  {
   "cell_type": "code",
   "execution_count": 8,
   "metadata": {},
   "outputs": [],
   "source": [
    "consumer_key= ''\n",
    "consumer_secret= ''\n",
    "access_token= ''\n",
    "access_token_secret= ''"
   ]
  },
  {
   "cell_type": "code",
   "execution_count": 9,
   "metadata": {},
   "outputs": [],
   "source": [
    "auth = tw.OAuthHandler(consumer_key, consumer_secret)\n",
    "auth.set_access_token(access_token, access_token_secret)\n",
    "api = tw.API(auth, wait_on_rate_limit=True)"
   ]
  },
  {
   "cell_type": "code",
   "execution_count": 10,
   "metadata": {},
   "outputs": [],
   "source": [
    "# Define the search term and the date_since date as variables\n",
    "search_words = \"#wildfires\"\n",
    "date_since = \"2018-11-16\""
   ]
  },
  {
   "cell_type": "code",
   "execution_count": 6,
   "metadata": {},
   "outputs": [
    {
     "data": {
      "text/plain": [
       "<tweepy.cursor.ItemIterator at 0x469ef70>"
      ]
     },
     "execution_count": 6,
     "metadata": {},
     "output_type": "execute_result"
    }
   ],
   "source": [
    "# Collect tweets\n",
    "tweets = tw.Cursor(api.search,\n",
    "              q=search_words,\n",
    "              lang=\"en\",\n",
    "              since=date_since).items(5)\n",
    "tweets"
   ]
  },
  {
   "cell_type": "code",
   "execution_count": 7,
   "metadata": {},
   "outputs": [
    {
     "name": "stdout",
     "output_type": "stream",
     "text": [
      "\"This is love: not that we loved God, but that he loved us and sent his Son [Jesus Christ] as an atoning sacrifice… https://t.co/T70A7Xjp6i\n",
      "DoD fighting #wildfires do so much more w/ #PCADS #BringTheRain #aerialfirefighting  🔥💧🎯🚫🔥\n",
      "#C130 #C17 #V22 #CH47… https://t.co/RUyvZ4AP5M\n",
      "Malibu After - Woolsey Fire aftermath  - Mary Pritchett (with neighbors Terri Keossaian, Judy Varley, and Carol Orn… https://t.co/QgAGDXq8N2\n",
      "@CCharitiesUSA is the domestic disaster relief agency of the US Catholic Church and provides immediate relief and l… https://t.co/ZVFpVyl6pF\n",
      "RT @YaleClimateComm: Climate models predicted #wildfires like the ones that California has seen this year, but not for several decades: htt…\n"
     ]
    }
   ],
   "source": [
    "# Collect tweets\n",
    "tweets = tw.Cursor(api.search,\n",
    "              q=search_words,\n",
    "              lang=\"en\",\n",
    "              since=date_since).items(5)\n",
    "\n",
    "# Iterate and print tweets\n",
    "for tweet in tweets:\n",
    "    print(tweet.text)"
   ]
  },
  {
   "cell_type": "code",
   "execution_count": 22,
   "metadata": {},
   "outputs": [
    {
     "data": {
      "text/plain": [
       "[['twitter',\n",
       "  'none',\n",
       "  'RT @fmlappe: What is happening in California? Drought, fires and fleeing residents! Chronic water scarcity is the new normal and the Americ…',\n",
       "  'Highland Park, CA',\n",
       "  datetime.datetime(2020, 11, 6, 12, 31, 8)],\n",
       " ['twitter',\n",
       "  'none',\n",
       "  'What is happening in California? Drought, fires and fleeing residents! Chronic water scarcity is the new normal and… https://t.co/hpyBrNmn1M',\n",
       "  '',\n",
       "  datetime.datetime(2020, 11, 6, 12, 30, 29)],\n",
       " ['twitter',\n",
       "  'none',\n",
       "  'People Affected by CA Wildfires Granted New Extension on Tax Returns, Payments \\n#Wildfires\\n#California\\n#LosAngeles… https://t.co/dElMbZUy6Q',\n",
       "  'North America',\n",
       "  datetime.datetime(2020, 11, 6, 12, 11, 59)],\n",
       " ['twitter',\n",
       "  'none',\n",
       "  'Napa Valley residents and business owners say the breadth and severity of wildfires have magnified in recent years,… https://t.co/ZtYS4MRMKl',\n",
       "  '',\n",
       "  datetime.datetime(2020, 11, 6, 12, 0, 14)],\n",
       " ['twitter',\n",
       "  'none',\n",
       "  'RT @i_ameztoy: Do you want a scary #Halloween? Here you go two months of CO evolution; Look at the tongues crossing oceans! 🧐\\n\\n@CopernicusE…',\n",
       "  '',\n",
       "  datetime.datetime(2020, 11, 6, 11, 48, 6)]]"
      ]
     },
     "execution_count": 22,
     "metadata": {},
     "output_type": "execute_result"
    }
   ],
   "source": [
    "# Collect tweets\n",
    "data_tweet=[]\n",
    "tweets = tw.Cursor(api.search,\n",
    "                       q=search_words,\n",
    "                       lang=\"en\",\n",
    "                       since=date_since).items(5)\n",
    "for tweet in tweets:\n",
    "    data_tweet.append([\"twitter\",'none',tweet.text,tweet.user.location,tweet.created_at ])\n",
    "data_tweet\n",
    "# Collect a list of tweets\n",
    "#[tweet.text for tweet in tweets]"
   ]
  },
  {
   "cell_type": "code",
   "execution_count": 10,
   "metadata": {},
   "outputs": [
    {
     "data": {
      "text/plain": [
       "'#wildfires -filter:retweets'"
      ]
     },
     "execution_count": 10,
     "metadata": {},
     "output_type": "execute_result"
    }
   ],
   "source": [
    "new_search = search_words + \" -filter:retweets\"\n",
    "new_search"
   ]
  },
  {
   "cell_type": "code",
   "execution_count": 67,
   "metadata": {},
   "outputs": [
    {
     "data": {
      "text/plain": [
       "['#Crowdfunding for Cyairnova: The air purifier with a verified 99.5% disinfection rate eliminating odors, #allergens… https://t.co/wleJL82tLt',\n",
       " '#Election2020: #Wildfires: Not sure if this speaks for all of #California, but can we just watch recordings of fireworks, please?',\n",
       " 'That is really good news for California. #wildfires https://t.co/RrPjaSiZIR',\n",
       " 'Malibu After - Woolsey Fire aftermath\\n#malibuafter #woolseyfire #news #wildfires #climatechange #globalwarming… https://t.co/s5UN0cjAtp',\n",
       " 'IRSnews: #IRS provides tax relief to victims of the September California #wildfires, postponing several tax deadlin… https://t.co/2Tz6Ih6Bd7']"
      ]
     },
     "execution_count": 67,
     "metadata": {},
     "output_type": "execute_result"
    }
   ],
   "source": [
    "tweets = tw.Cursor(api.search,\n",
    "                       q=new_search,\n",
    "                       lang=\"en\",\n",
    "                       since=date_since).items(5)\n",
    "\n",
    "[tweet.text for tweet in tweets]"
   ]
  },
  {
   "cell_type": "code",
   "execution_count": 68,
   "metadata": {},
   "outputs": [
    {
     "data": {
      "text/plain": [
       "[['icrowdfundbuzz', 'Las Vegas, NV'],\n",
       " ['CCLSVN', 'Mountain View, CA'],\n",
       " ['marilynwinders', 'Portland, Oregon'],\n",
       " ['myerphoto', 'Los Angeles, CA'],\n",
       " ['TheKeperaGroup', 'Houston, Texas']]"
      ]
     },
     "execution_count": 68,
     "metadata": {},
     "output_type": "execute_result"
    }
   ],
   "source": [
    "tweets = tw.Cursor(api.search, \n",
    "                           q=new_search,\n",
    "                           lang=\"en\",\n",
    "                           since=date_since).items(5)\n",
    "\n",
    "users_locs = [[tweet.user.screen_name, tweet.user.location] for tweet in tweets]\n",
    "users_locs"
   ]
  },
  {
   "cell_type": "code",
   "execution_count": 69,
   "metadata": {},
   "outputs": [
    {
     "data": {
      "text/html": [
       "<div>\n",
       "<style scoped>\n",
       "    .dataframe tbody tr th:only-of-type {\n",
       "        vertical-align: middle;\n",
       "    }\n",
       "\n",
       "    .dataframe tbody tr th {\n",
       "        vertical-align: top;\n",
       "    }\n",
       "\n",
       "    .dataframe thead th {\n",
       "        text-align: right;\n",
       "    }\n",
       "</style>\n",
       "<table border=\"1\" class=\"dataframe\">\n",
       "  <thead>\n",
       "    <tr style=\"text-align: right;\">\n",
       "      <th></th>\n",
       "      <th>user</th>\n",
       "      <th>location</th>\n",
       "    </tr>\n",
       "  </thead>\n",
       "  <tbody>\n",
       "    <tr>\n",
       "      <th>0</th>\n",
       "      <td>icrowdfundbuzz</td>\n",
       "      <td>Las Vegas, NV</td>\n",
       "    </tr>\n",
       "    <tr>\n",
       "      <th>1</th>\n",
       "      <td>CCLSVN</td>\n",
       "      <td>Mountain View, CA</td>\n",
       "    </tr>\n",
       "    <tr>\n",
       "      <th>2</th>\n",
       "      <td>marilynwinders</td>\n",
       "      <td>Portland, Oregon</td>\n",
       "    </tr>\n",
       "    <tr>\n",
       "      <th>3</th>\n",
       "      <td>myerphoto</td>\n",
       "      <td>Los Angeles, CA</td>\n",
       "    </tr>\n",
       "    <tr>\n",
       "      <th>4</th>\n",
       "      <td>TheKeperaGroup</td>\n",
       "      <td>Houston, Texas</td>\n",
       "    </tr>\n",
       "  </tbody>\n",
       "</table>\n",
       "</div>"
      ],
      "text/plain": [
       "             user           location\n",
       "0  icrowdfundbuzz      Las Vegas, NV\n",
       "1          CCLSVN  Mountain View, CA\n",
       "2  marilynwinders   Portland, Oregon\n",
       "3       myerphoto    Los Angeles, CA\n",
       "4  TheKeperaGroup     Houston, Texas"
      ]
     },
     "execution_count": 69,
     "metadata": {},
     "output_type": "execute_result"
    }
   ],
   "source": [
    "tweet_text = pd.DataFrame(data=users_locs, \n",
    "                    columns=['user', \"location\"])\n",
    "tweet_text"
   ]
  },
  {
   "cell_type": "code",
   "execution_count": 127,
   "metadata": {},
   "outputs": [],
   "source": [
    "def text_query_to_csv(text_query,date_since,date_until):\n",
    "    data_tweets=[]\n",
    "    daysScrap=pd.date_range(date_since,date_until,freq='D').strftime(\"%Y-%m-%d\").tolist()\n",
    "    tweets = tw.Cursor(api.search,\n",
    "                       q=search_words,\n",
    "                       lang=\"en\",\n",
    "                       since=date_since).items(8)\n",
    "\n",
    "    for tweett in tweets:\n",
    "        data_tweets.append([\"Twitter\",'None',tweett.created_at,text_query,tweett.text])\n",
    "    return data_tweets \n",
    "\n",
    "def text_multiQuey(keywords,date_since,date_until):\n",
    "    i=1\n",
    "    result_frames=[]\n",
    "    for key in keywords:\n",
    "        print('[{}%] les données de requete dépendent de vos mots clés, veulliez patienter...'.format(int(i*100/len(key))))\n",
    "        data=text_query_to_csv(key,date_since,date_until)\n",
    "        res=pd.DataFrame(np.array(data),columns=[['Plateforme','Page','Date','Mot Clé','Text']])\n",
    "        result_frames.append(res)\n",
    "        i+=1\n",
    "        return result_frames\n",
    "    \n"
   ]
  },
  {
   "cell_type": "code",
   "execution_count": 132,
   "metadata": {},
   "outputs": [
    {
     "name": "stdout",
     "output_type": "stream",
     "text": [
      "[16%] les données de requete dépendent de vos mots clés, veulliez patienter...\n"
     ]
    },
    {
     "data": {
      "text/plain": [
       "[  Plateforme  Page                Date Mot Clé  \\\n",
       " 0    Twitter  None 2020-11-07 18:59:38  france   \n",
       " 1    Twitter  None 2020-11-07 18:57:39  france   \n",
       " 2    Twitter  None 2020-11-07 18:47:14  france   \n",
       " 3    Twitter  None 2020-11-07 18:42:43  france   \n",
       " 4    Twitter  None 2020-11-07 18:07:23  france   \n",
       " 5    Twitter  None 2020-11-07 18:04:48  france   \n",
       " 6    Twitter  None 2020-11-07 18:01:34  france   \n",
       " 7    Twitter  None 2020-11-07 18:00:06  france   \n",
       " \n",
       "                                                 Text  \n",
       " 0  IRSnews: #IRS extends upcoming deadlines, prov...  \n",
       " 1  Thanks to @UCF Biologist Brent Saulsbury for t...  \n",
       " 2  RT @i_ameztoy: Do you want a scary #Halloween?...  \n",
       " 3  RT @CCharitiesUSA: @CCharitiesUSA is the domes...  \n",
       " 4  RT @i_ameztoy: Do you want a scary #Halloween?...  \n",
       " 5  RT @PantheraCats: #FelineFriday: @mongabay sha...  \n",
       " 6  #IRS extends upcoming deadlines, provides expa...  \n",
       " 7  #Wildfires risks continue to grow throughout t...  ]"
      ]
     },
     "execution_count": 132,
     "metadata": {},
     "output_type": "execute_result"
    }
   ],
   "source": [
    "text_multiQuey(['france','india'],\"2020-01-01\",\"2020-05-01\")"
   ]
  },
  {
   "cell_type": "code",
   "execution_count": 126,
   "metadata": {},
   "outputs": [
    {
     "name": "stdout",
     "output_type": "stream",
     "text": [
      "Recherchez des données et stockez-les dans: tweet.csv...\n",
      "[16%] les données de requete dépendent de vos mots clés, veulliez patienter...\n",
      "veuillez verifier le dossier C:\\Users\\dell\\Desktop\\cv\\dataproject\\tweet.csv\n"
     ]
    }
   ],
   "source": [
    "def store_multyQuery_to_csv(keywords,date_since,date_until,filename):\n",
    "    print('Recherchez des données et stockez-les dans: {}.csv...'.format(filename))\n",
    "    tweet_text_frames=text_multiQuey(keywords,date_since,date_until)\n",
    "    tweets_df=pd.concat(tweet_text_frames,keys=keywords)\n",
    "    tweets_df.to_csv(filename+'.csv',sep=',',index=False)\n",
    "    pf=os.getcwd()\n",
    "    print('veuillez verifier le dossier {}\\{}.csv'.format(pf,filename))\n",
    "\n",
    "store_multyQuery_to_csv(['france','coronavirus'],'2020-01-01','2020-01-02','tweet')\n",
    "    \n",
    "   \n",
    "    "
   ]
  },
  {
   "cell_type": "code",
   "execution_count": 135,
   "metadata": {},
   "outputs": [],
   "source": []
  },
  {
   "cell_type": "code",
   "execution_count": null,
   "metadata": {},
   "outputs": [],
   "source": []
  }
 ],
 "metadata": {
  "kernelspec": {
   "display_name": "Python 3",
   "language": "python",
   "name": "python3"
  },
  "language_info": {
   "codemirror_mode": {
    "name": "ipython",
    "version": 3
   },
   "file_extension": ".py",
   "mimetype": "text/x-python",
   "name": "python",
   "nbconvert_exporter": "python",
   "pygments_lexer": "ipython3",
   "version": "3.8.2"
  }
 },
 "nbformat": 4,
 "nbformat_minor": 4
}
