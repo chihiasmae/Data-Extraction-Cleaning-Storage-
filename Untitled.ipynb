{
 "cells": [
  {
   "cell_type": "markdown",
   "metadata": {},
   "source": [
    "#### import libraires"
   ]
  },
  {
   "cell_type": "code",
   "execution_count": 107,
   "metadata": {},
   "outputs": [
    {
     "name": "stderr",
     "output_type": "stream",
     "text": [
      "[nltk_data] Downloading package stopwords to\n",
      "[nltk_data]     C:\\Users\\dell\\AppData\\Roaming\\nltk_data...\n",
      "[nltk_data]   Package stopwords is already up-to-date!\n",
      "[nltk_data] Downloading package wordnet to\n",
      "[nltk_data]     C:\\Users\\dell\\AppData\\Roaming\\nltk_data...\n",
      "[nltk_data]   Package wordnet is already up-to-date!\n"
     ]
    },
    {
     "data": {
      "text/plain": [
       "True"
      ]
     },
     "execution_count": 107,
     "metadata": {},
     "output_type": "execute_result"
    }
   ],
   "source": [
    "import os\n",
    "import tweepy as tw\n",
    "import pandas as pd\n",
    "import numpy as np\n",
    "import matplotlib.pyplot as plt\n",
    "from sklearn.feature_extraction.text import CountVectorizer\n",
    "import nltk \n",
    "import string\n",
    "import re\n",
    "nltk.download('stopwords')\n",
    "nltk.download('wordnet')"
   ]
  },
  {
   "cell_type": "markdown",
   "metadata": {},
   "source": [
    "#### Acceder au API fourni par Twiter"
   ]
  },
  {
   "cell_type": "code",
   "execution_count": 109,
   "metadata": {},
   "outputs": [],
   "source": [
    "consumer_key= 'LzLRKAyiacAp7bGkzRJpCJ1OH'\n",
    "consumer_secret= 'sQLutAeBKv4lvr7jiEDLVsxQaI19Tc82jR1qtXkoQ3XqekDINt'\n",
    "access_token= '1324132308887240706-CcjAdjsS2vsyqrr6bnx5RxaeuKxU49'\n",
    "access_token_secret= '9qL0qPhacFzI5VHVJprXZRwCi6wPoLYFdlyKwwPOKK8V9'"
   ]
  },
  {
   "cell_type": "code",
   "execution_count": 110,
   "metadata": {},
   "outputs": [],
   "source": [
    "auth = tw.OAuthHandler(consumer_key, consumer_secret)\n",
    "auth.set_access_token(access_token, access_token_secret)\n",
    "api = tw.API(auth, wait_on_rate_limit=True)"
   ]
  },
  {
   "cell_type": "code",
   "execution_count": 130,
   "metadata": {},
   "outputs": [],
   "source": [
    "# Define the search term and the date_since date as variables\n",
    "search_words = \"#wildfires\"\n",
    "date_since = \"2018-11-16\""
   ]
  },
  {
   "cell_type": "code",
   "execution_count": 131,
   "metadata": {},
   "outputs": [
    {
     "data": {
      "text/plain": [
       "<tweepy.cursor.ItemIterator at 0x139d088>"
      ]
     },
     "execution_count": 131,
     "metadata": {},
     "output_type": "execute_result"
    }
   ],
   "source": [
    "# Collect tweets\n",
    "tweets = tw.Cursor(api.search,\n",
    "              q=search_words,\n",
    "              lang=\"en\",\n",
    "              since=date_since).items(5)\n",
    "tweets"
   ]
  },
  {
   "cell_type": "code",
   "execution_count": 132,
   "metadata": {},
   "outputs": [
    {
     "name": "stdout",
     "output_type": "stream",
     "text": [
      "The U.S. #financial system needs to prepare for #climate #disruption https://t.co/844euGmWHe #SundayThoughts… https://t.co/hhEHq5rZX0\n",
      "Getting ready for my interview with Dan Frechette today! “Canadian in America During Crisis”. It will be up on… https://t.co/M0x7UzCKVI\n",
      "Cougar cubs, raccoons, kitty cats. After rehab, animals hurt by fires find new homes \n",
      "#Wildfires\n",
      "#California… https://t.co/k2BW0cYfFX\n",
      "RT @SadhguruJV: #Wildfires in Amazon are a true wake up call for humanity. Will we wake up now or wait for the very beds that we sleep upon…\n",
      "RT @chriscartw83: How will the  \"slow slope\" be next week? \n",
      "Not so slow..no end in sight for russian arctic \n",
      "\n",
      " D+7 forecast  29.11.2020\n",
      "\n",
      "Ar…\n"
     ]
    }
   ],
   "source": [
    "# Collect tweets\n",
    "tweets = tw.Cursor(api.search,\n",
    "              q=search_words,\n",
    "              lang=\"en\",\n",
    "              since=date_since).items(5)\n",
    "\n",
    "# Iterate and print tweets\n",
    "for tweet in tweets:\n",
    "    print(tweet.text)"
   ]
  },
  {
   "cell_type": "code",
   "execution_count": 133,
   "metadata": {},
   "outputs": [
    {
     "data": {
      "text/plain": [
       "[['twitter',\n",
       "  'none',\n",
       "  'The U.S. #financial system needs to prepare for #climate #disruption https://t.co/844euGmWHe #SundayThoughts… https://t.co/hhEHq5rZX0',\n",
       "  'Maple Grove, MN',\n",
       "  datetime.datetime(2020, 11, 22, 13, 1, 13)],\n",
       " ['twitter',\n",
       "  'none',\n",
       "  'Getting ready for my interview with Dan Frechette today! “Canadian in America During Crisis”. It will be up on… https://t.co/M0x7UzCKVI',\n",
       "  'All Over',\n",
       "  datetime.datetime(2020, 11, 22, 12, 59, 25)],\n",
       " ['twitter',\n",
       "  'none',\n",
       "  'Cougar cubs, raccoons, kitty cats. After rehab, animals hurt by fires find new homes \\n#Wildfires\\n#California… https://t.co/k2BW0cYfFX',\n",
       "  'North America',\n",
       "  datetime.datetime(2020, 11, 22, 12, 27, 22)],\n",
       " ['twitter',\n",
       "  'none',\n",
       "  'RT @SadhguruJV: #Wildfires in Amazon are a true wake up call for humanity. Will we wake up now or wait for the very beds that we sleep upon…',\n",
       "  'noida ',\n",
       "  datetime.datetime(2020, 11, 22, 11, 27, 29)],\n",
       " ['twitter',\n",
       "  'none',\n",
       "  'RT @chriscartw83: How will the  \"slow slope\" be next week? \\nNot so slow..no end in sight for russian arctic \\n\\n D+7 forecast  29.11.2020\\n\\nAr…',\n",
       "  '',\n",
       "  datetime.datetime(2020, 11, 22, 11, 3, 44)]]"
      ]
     },
     "execution_count": 133,
     "metadata": {},
     "output_type": "execute_result"
    }
   ],
   "source": [
    "# Collect tweets\n",
    "data_tweet=[]\n",
    "tweets = tw.Cursor(api.search,\n",
    "                       q=search_words,\n",
    "                       lang=\"en\",\n",
    "                       since=date_since).items(5)\n",
    "for tweet in tweets:\n",
    "    data_tweet.append([\"twitter\",'none',tweet.text,tweet.user.location,tweet.created_at ])\n",
    "data_tweet\n",
    "# Collect a list of tweets\n",
    "#[tweet.text for tweet in tweets]"
   ]
  },
  {
   "cell_type": "code",
   "execution_count": 134,
   "metadata": {},
   "outputs": [
    {
     "data": {
      "text/plain": [
       "'#wildfires -filter:retweets'"
      ]
     },
     "execution_count": 134,
     "metadata": {},
     "output_type": "execute_result"
    }
   ],
   "source": [
    "new_search = search_words + \" -filter:retweets\"\n",
    "new_search"
   ]
  },
  {
   "cell_type": "code",
   "execution_count": 135,
   "metadata": {},
   "outputs": [
    {
     "data": {
      "text/plain": [
       "['The U.S. #financial system needs to prepare for #climate #disruption https://t.co/844euGmWHe #SundayThoughts… https://t.co/hhEHq5rZX0',\n",
       " 'Getting ready for my interview with Dan Frechette today! “Canadian in America During Crisis”. It will be up on… https://t.co/M0x7UzCKVI',\n",
       " 'Cougar cubs, raccoons, kitty cats. After rehab, animals hurt by fires find new homes \\n#Wildfires\\n#California… https://t.co/k2BW0cYfFX',\n",
       " 'How will the  \"slow slope\" be next week? \\nNot so slow..no end in sight for russian arctic \\n\\n D+7 forecast  29.11.20… https://t.co/tF6etxIgv1',\n",
       " 'IRSnews: #IRS provides tax relief to the California #wildfires victims, as part of a coordinated federal response b… https://t.co/jxJijwcmk6']"
      ]
     },
     "execution_count": 135,
     "metadata": {},
     "output_type": "execute_result"
    }
   ],
   "source": [
    "tweets = tw.Cursor(api.search,\n",
    "                       q=new_search,\n",
    "                       lang=\"en\",\n",
    "                       since=date_since).items(5)\n",
    "\n",
    "[tweet.text for tweet in tweets]"
   ]
  },
  {
   "cell_type": "code",
   "execution_count": 136,
   "metadata": {},
   "outputs": [
    {
     "data": {
      "text/plain": [
       "[['TCWealth', 'Maple Grove, MN'],\n",
       " ['VisualVictoria', 'All Over'],\n",
       " ['RealPhatsBlog', 'North America'],\n",
       " ['chriscartw83', 'Caribbean'],\n",
       " ['TheKeperaGroup', 'Houston, Texas']]"
      ]
     },
     "execution_count": 136,
     "metadata": {},
     "output_type": "execute_result"
    }
   ],
   "source": [
    "tweets = tw.Cursor(api.search, \n",
    "                           q=new_search,\n",
    "                           lang=\"en\",\n",
    "                           since=date_since).items(5)\n",
    "\n",
    "users_locs = [[tweet.user.screen_name, tweet.user.location] for tweet in tweets]\n",
    "users_locs"
   ]
  },
  {
   "cell_type": "code",
   "execution_count": 137,
   "metadata": {},
   "outputs": [
    {
     "data": {
      "text/html": [
       "<div>\n",
       "<style scoped>\n",
       "    .dataframe tbody tr th:only-of-type {\n",
       "        vertical-align: middle;\n",
       "    }\n",
       "\n",
       "    .dataframe tbody tr th {\n",
       "        vertical-align: top;\n",
       "    }\n",
       "\n",
       "    .dataframe thead th {\n",
       "        text-align: right;\n",
       "    }\n",
       "</style>\n",
       "<table border=\"1\" class=\"dataframe\">\n",
       "  <thead>\n",
       "    <tr style=\"text-align: right;\">\n",
       "      <th></th>\n",
       "      <th>user</th>\n",
       "      <th>location</th>\n",
       "    </tr>\n",
       "  </thead>\n",
       "  <tbody>\n",
       "    <tr>\n",
       "      <th>0</th>\n",
       "      <td>TCWealth</td>\n",
       "      <td>Maple Grove, MN</td>\n",
       "    </tr>\n",
       "    <tr>\n",
       "      <th>1</th>\n",
       "      <td>VisualVictoria</td>\n",
       "      <td>All Over</td>\n",
       "    </tr>\n",
       "    <tr>\n",
       "      <th>2</th>\n",
       "      <td>RealPhatsBlog</td>\n",
       "      <td>North America</td>\n",
       "    </tr>\n",
       "    <tr>\n",
       "      <th>3</th>\n",
       "      <td>chriscartw83</td>\n",
       "      <td>Caribbean</td>\n",
       "    </tr>\n",
       "    <tr>\n",
       "      <th>4</th>\n",
       "      <td>TheKeperaGroup</td>\n",
       "      <td>Houston, Texas</td>\n",
       "    </tr>\n",
       "  </tbody>\n",
       "</table>\n",
       "</div>"
      ],
      "text/plain": [
       "             user         location\n",
       "0        TCWealth  Maple Grove, MN\n",
       "1  VisualVictoria         All Over\n",
       "2   RealPhatsBlog    North America\n",
       "3    chriscartw83        Caribbean\n",
       "4  TheKeperaGroup   Houston, Texas"
      ]
     },
     "execution_count": 137,
     "metadata": {},
     "output_type": "execute_result"
    }
   ],
   "source": [
    "tweet_text = pd.DataFrame(data=users_locs, \n",
    "                    columns=['user', \"location\"])\n",
    "tweet_text"
   ]
  },
  {
   "cell_type": "code",
   "execution_count": 138,
   "metadata": {},
   "outputs": [],
   "source": [
    "def text_query_to_csv(text_query,date_since,date_until):\n",
    "    data_tweets=[]\n",
    "    daysScrap=pd.date_range(date_since,date_until,freq='D').strftime(\"%Y-%m-%d\").tolist()\n",
    "    tweets = tw.Cursor(api.search,\n",
    "                       q=search_words,\n",
    "                       lang=\"en\",\n",
    "                       since=date_since).items(8)\n",
    "\n",
    "    for tweett in tweets:\n",
    "        data_tweets.append([\"Twitter\",'None',tweett.created_at,text_query,tweett.text])\n",
    "    return data_tweets \n",
    "\n",
    "def text_multiQuey(keywords,date_since,date_until):\n",
    "    i=1\n",
    "    result_frames=[]\n",
    "    for key in keywords:\n",
    "        print('[{}%] les données de requete dépendent de vos mots clés, veulliez patienter...'.format(int(i*100/len(key))))\n",
    "        data=text_query_to_csv(key,date_since,date_until)\n",
    "        res=pd.DataFrame(np.array(data),columns=[['Plateforme','Page','Date','Mot Clé','Text']])\n",
    "        result_frames.append(res)\n",
    "        i+=1\n",
    "        return result_frames\n",
    "    \n"
   ]
  },
  {
   "cell_type": "code",
   "execution_count": 139,
   "metadata": {},
   "outputs": [
    {
     "name": "stdout",
     "output_type": "stream",
     "text": [
      "[16%] les données de requete dépendent de vos mots clés, veulliez patienter...\n"
     ]
    },
    {
     "data": {
      "text/plain": [
       "[  Plateforme  Page                Date Mot Clé  \\\n",
       " 0    Twitter  None 2020-11-22 13:01:13  france   \n",
       " 1    Twitter  None 2020-11-22 12:59:25  france   \n",
       " 2    Twitter  None 2020-11-22 12:27:22  france   \n",
       " 3    Twitter  None 2020-11-22 11:27:29  france   \n",
       " 4    Twitter  None 2020-11-22 11:03:44  france   \n",
       " 5    Twitter  None 2020-11-22 10:52:28  france   \n",
       " 6    Twitter  None 2020-11-22 10:52:11  france   \n",
       " 7    Twitter  None 2020-11-22 10:45:04  france   \n",
       " \n",
       "                                                 Text  \n",
       " 0  The U.S. #financial system needs to prepare fo...  \n",
       " 1  Getting ready for my interview with Dan Freche...  \n",
       " 2  Cougar cubs, raccoons, kitty cats. After rehab...  \n",
       " 3  RT @SadhguruJV: #Wildfires in Amazon are a tru...  \n",
       " 4  RT @chriscartw83: How will the  \"slow slope\" b...  \n",
       " 5  RT @chriscartw83: How will the  \"slow slope\" b...  \n",
       " 6  RT @chriscartw83: How will the  \"slow slope\" b...  \n",
       " 7  How will the  \"slow slope\" be next week? \\nNot...  ]"
      ]
     },
     "execution_count": 139,
     "metadata": {},
     "output_type": "execute_result"
    }
   ],
   "source": [
    "text_multiQuey(['france','india'],\"2020-01-01\",\"2020-05-01\")"
   ]
  },
  {
   "cell_type": "code",
   "execution_count": null,
   "metadata": {},
   "outputs": [],
   "source": [
    "def store_multyQuery_to_csv(keywords,date_since,date_until,filename):\n",
    "    print('Recherchez des données et stockez-les dans: {}.csv...'.format(filename))\n",
    "    tweet_text_frames=text_multiQuey(keywords,date_since,date_until)\n",
    "    tweets_df=pd.concat(tweet_text_frames,keys=keywords)\n",
    "    tweets_df.to_csv(filename+'.csv',sep=',',index=False)\n",
    "    pf=os.getcwd()\n",
    "    print('veuillez verifier le dossier {}\\{}.csv'.format(pf,filename))\n",
    "\n",
    "store_multyQuery_to_csv(['france','coronavirus'],'2020-01-01','2020-01-02','tweet')\n",
    "    \n",
    "   \n",
    "    "
   ]
  },
  {
   "cell_type": "markdown",
   "metadata": {},
   "source": [
    "#### Data Cleaning- processing"
   ]
  },
  {
   "cell_type": "code",
   "execution_count": null,
   "metadata": {},
   "outputs": [],
   "source": [
    "df=pd.read_csv('tweet.csv')\n",
    "df"
   ]
  },
  {
   "cell_type": "code",
   "execution_count": null,
   "metadata": {},
   "outputs": [],
   "source": [
    "\n",
    "string.punctuation"
   ]
  },
  {
   "cell_type": "code",
   "execution_count": null,
   "metadata": {},
   "outputs": [],
   "source": [
    "import re\n",
    "def remove_punct(text):\n",
    "    text  = \"\".join([char for char in text if char not in string.punctuation])\n",
    "    text = re.sub('[0-9]+', '', text)\n",
    "    return text\n",
    "\n",
    "df['Text'] = df['Text'].apply(lambda x: remove_punct(x))\n",
    "df.head(10)"
   ]
  },
  {
   "cell_type": "code",
   "execution_count": null,
   "metadata": {},
   "outputs": [],
   "source": [
    "def tokenization(text):\n",
    "    text = re.split('\\W+', text)\n",
    "    return text\n",
    "\n",
    "df['Text'] = df['Text'].apply(lambda x: tokenization(x.lower()))\n",
    "df.head()"
   ]
  },
  {
   "cell_type": "code",
   "execution_count": null,
   "metadata": {},
   "outputs": [],
   "source": [
    "stopword = nltk.corpus.stopwords.words('english')\n",
    "stopword.extend(['yr', 'year', 'woman', 'man', 'girl','boy','one', 'two', 'sixteen', 'yearold', 'fu', 'weeks', 'week',\n",
    "               'treatment', 'associated', 'patients', 'may','day', 'case','old'])"
   ]
  },
  {
   "cell_type": "code",
   "execution_count": null,
   "metadata": {},
   "outputs": [],
   "source": [
    "def remove_stopwords(text):\n",
    "    text = [word for word in text if word not in stopword]\n",
    "    return text\n",
    "    \n",
    "df['Text'] = df['Text'].apply(lambda x: remove_stopwords(x))\n",
    "df.head()"
   ]
  },
  {
   "cell_type": "markdown",
   "metadata": {},
   "source": [
    "##### stemming and lemmatization"
   ]
  },
  {
   "cell_type": "code",
   "execution_count": null,
   "metadata": {},
   "outputs": [],
   "source": [
    "ps = nltk.PorterStemmer()\n",
    "\n",
    "def stemming(text):\n",
    "    text = [ps.stem(word) for word in text]\n",
    "    return text\n",
    "\n",
    "df['Text'] = df['Text'].apply(lambda x: stemming(x))\n",
    "df.head()"
   ]
  },
  {
   "cell_type": "code",
   "execution_count": null,
   "metadata": {},
   "outputs": [],
   "source": [
    "wn = nltk.WordNetLemmatizer()\n",
    "\n",
    "def lemmatizer(text):\n",
    "    text = [wn.lemmatize(word) for word in text]\n",
    "    return text\n",
    "\n",
    "df['Text'] = df['Text'].apply(lambda x: lemmatizer(x))\n",
    "df.head()\n",
    "df['Text']"
   ]
  },
  {
   "cell_type": "code",
   "execution_count": null,
   "metadata": {},
   "outputs": [],
   "source": []
  },
  {
   "cell_type": "code",
   "execution_count": null,
   "metadata": {},
   "outputs": [],
   "source": []
  },
  {
   "cell_type": "code",
   "execution_count": null,
   "metadata": {},
   "outputs": [],
   "source": []
  }
 ],
 "metadata": {
  "kernelspec": {
   "display_name": "Python 3",
   "language": "python",
   "name": "python3"
  },
  "language_info": {
   "codemirror_mode": {
    "name": "ipython",
    "version": 3
   },
   "file_extension": ".py",
   "mimetype": "text/x-python",
   "name": "python",
   "nbconvert_exporter": "python",
   "pygments_lexer": "ipython3",
   "version": "3.8.2"
  }
 },
 "nbformat": 4,
 "nbformat_minor": 4
}
